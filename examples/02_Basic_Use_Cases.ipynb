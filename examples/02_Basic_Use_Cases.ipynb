{
 "cells": [
  {
   "cell_type": "markdown",
   "metadata": {},
   "source": [
    "# 02 Basic Use Cases"
   ]
  },
  {
   "cell_type": "markdown",
   "metadata": {},
   "source": [
    "## 1. YouTube Link -> Animation"
   ]
  },
  {
   "cell_type": "markdown",
   "metadata": {},
   "source": [
    "I've always been fascinated by hand drawn animation. Let's see if we can use Open Interpreter to express that.\n",
    "\n",
    "We'll ask it to redraw every frame in Steve Lacey's \"Bad Habit\" video with `replicate`. They have a service that can redraw images in new styles.\n",
    "\n",
    "`Doesn't this require logging into \"replicate\"?`\n",
    "\n",
    "Yes, and this is a great reason to use Open Interpreter! We can simply log in to `replicate`, then tell the interpreter how to use it ([I just pasted in replicate's quick start](https://replicate.com/jagilley/controlnet-pose/api)).\n",
    "Because code is run locally, the interpreter is \"logged in\" too."
   ]
  },
  {
   "cell_type": "code",
   "execution_count": null,
   "metadata": {},
   "outputs": [],
   "source": [
    "import interpreter\n",
    "\n",
    "# Skip confirmation before any code excecution by enabling auto_run\n",
    "interpreter.auto_run = True\n",
    "\n",
    "# Chose your model from the list: ['code-llama', 'gpt-3.5-turbo', 'gpt-4']\n",
    "interpreter.model = \"gpt-3.5-turbo\"\n",
    "\n",
    "# Set your temperature. 0.0 is the most conservative, 1.0 is the most creative.\n",
    "interpreter.temperature = 0\n",
    "\n",
    "# Paste your OpenAI API key below.\n",
    "interpreter.api_key = \"your_openai_api_key\""
   ]
  },
  {
   "cell_type": "markdown",
   "metadata": {},
   "source": [
    "> Before you start, make sure to install replicate:\n",
    "\n",
    "`pip install replicate`"
   ]
  },
  {
   "cell_type": "code",
   "execution_count": null,
   "metadata": {},
   "outputs": [],
   "source": [
    "import os\n",
    "\n",
    "# Set the API token for Replicate.\n",
    "# Get yours: https://replicate.com/account\n",
    "os.environ[\"REPLICATE_API_TOKEN\"] = \"api_token\" "
   ]
  },
  {
   "cell_type": "markdown",
   "metadata": {},
   "source": [
    "Now we'll ask interpreter to redraw the video using Replicate."
   ]
  },
  {
   "cell_type": "code",
   "execution_count": null,
   "metadata": {},
   "outputs": [],
   "source": [
    "# Preparing the prompt\n",
    "message = \"\"\"\n",
    "\n",
    "I want to edit a video so it's in 12 fps and each frame is redrawn with ControlNet\n",
    "to give it a stop motion / hand-drawn animation feeling.\n",
    "\n",
    "Here's how you use ControlNet on a single frame, from Replicate's quick start:\n",
    "\n",
    "import replicate\n",
    "output = replicate.run(\n",
    "    \"jagilley/controlnet-canny:aff48af9c68d162388d230a2ab003f68d2638d88307bdaf1c2f1ac95079c9613\",\n",
    "    input={\"image\": open(\"path/to/file\", \"rb\"), \"prompt\": \"<prompt>\"}\n",
    ")\n",
    "\n",
    "(I've noticed that this always returns a list of two links. Just use the second one.)\n",
    "\n",
    "Please download this video and just use the seconds from 0:10 to 0:17:\n",
    "https://www.youtube.com/watch?v=VF-FGf_ZZiI\n",
    "\n",
    "Then reduce it to 12fps, and then replace those frames with ControlNet redraws\n",
    "using random prompts that evoke stop motion / hand-drawn animation--\n",
    "think embroidery, pencil art, claymation, yarn on a table, etc--\n",
    "then add the original sound back.\n",
    "\n",
    "Thanks!\n",
    "\n",
    "\"\"\"\n",
    "\n",
    "# Reset the chat\n",
    "interpreter.reset() \n",
    "\n",
    "# Pass in the message above\n",
    "interpreter.chat(message) "
   ]
  },
  {
   "cell_type": "markdown",
   "metadata": {},
   "source": [
    "Just for fun, imagine a function that takes a `youtube_url`, passes it into `interpreter.chat(message)` with the instructions above, then returns the processed filename:\n",
    "\n",
    "```python\n",
    "def animate_video(youtube_url):\n",
    "  interpreter.reset()\n",
    "  interpreter.message(f'Animate {youtube_url} with the following steps then save to final.mp4. ...')\n",
    "  return 'final.mp4'\n",
    "```"
   ]
  },
  {
   "cell_type": "markdown",
   "metadata": {},
   "source": [
    "## 2. Documents"
   ]
  },
  {
   "cell_type": "markdown",
   "metadata": {},
   "source": [
    "### 2.1 Create documents"
   ]
  },
  {
   "cell_type": "markdown",
   "metadata": {},
   "source": [
    "The model has direct access and permissions to the working directory, and you can test it by asking to create some folders with files inside. "
   ]
  },
  {
   "cell_type": "code",
   "execution_count": null,
   "metadata": {},
   "outputs": [],
   "source": [
    "# Reset the chat\n",
    "interpreter.reset() \n",
    "\n",
    "# Pass a message directly into chat\n",
    "interpreter.chat(\"\"\"Can you make a folder called documents and put five .docx files in it\n",
    "and write a sentence about machine learning in each of them?\"\"\") "
   ]
  },
  {
   "cell_type": "markdown",
   "metadata": {},
   "source": [
    "### 2.2 Edit all documents in a folder"
   ]
  },
  {
   "cell_type": "markdown",
   "metadata": {},
   "source": [
    "Now, let's check that model can edit existing files"
   ]
  },
  {
   "cell_type": "code",
   "execution_count": null,
   "metadata": {},
   "outputs": [],
   "source": [
    "# Reset the chat\n",
    "interpreter.reset()\n",
    "\n",
    "# Pass a message directly into chat\n",
    "interpreter.chat(\"\"\"Go through all the .docx files in my 'documents' folder\n",
    "and replace every occurrence of 'Machine Learning' with 'AI'.\"\"\")"
   ]
  },
  {
   "cell_type": "markdown",
   "metadata": {},
   "source": [
    "## 3. Slow + Reverb a YouTube Link"
   ]
  },
  {
   "cell_type": "code",
   "execution_count": null,
   "metadata": {},
   "outputs": [],
   "source": [
    "# Put your link here to select a YouTube video\n",
    "youtube_url = \"https://www.youtube.com/watch?v=8GW6sLrK40k\"\n",
    "\n",
    "# Reset the chat\n",
    "interpreter.reset()\n",
    "\n",
    "# Pass a message directly into chat\n",
    "interpreter.chat(f\"Can you slow + reverb this song? {youtube_url}\")"
   ]
  },
  {
   "cell_type": "markdown",
   "metadata": {},
   "source": [
    "Now we could open `interpreter.chat()`, ask it to slow it down more, add more reverb, or even create a video with [a .gif backround](https://i.giphy.com/media/zIV7iWK9f0x8Y/giphy.webp)."
   ]
  },
  {
   "cell_type": "markdown",
   "metadata": {},
   "source": [
    "## 4. Open Interpreter Artwork"
   ]
  },
  {
   "cell_type": "markdown",
   "metadata": {},
   "source": [
    "The artwork for Open Interpreter was illustrated by Open Interpreter. How?\n",
    "\n",
    "It was given a description inspired by [Ruby Chen's](https://rubywjchen.com/) GPT-4 artwork:"
   ]
  },
  {
   "cell_type": "code",
   "execution_count": null,
   "metadata": {},
   "outputs": [],
   "source": [
    "message = \"\"\"\n",
    "\n",
    "Hello! I'd like your help making some artwork for the Open Interpreter project.\n",
    "\n",
    "It's going to be pixel art, ~160 wide and 14 pixels tall. Black background.\n",
    "\n",
    "I'd like to see rectangles on every other row. These should be anywhere from\n",
    "~6 to 36 pixels in width. They should be placed randomly around the image, never touching eachother\n",
    "(the space between them should be ~16-64 pixels). They can go off screen / butt up against the edges.\n",
    "\n",
    "Half of these rectangles should be white, half should be a powerful purple color: R138 G43 B226\n",
    "\n",
    "Once you've created it, please scale it up with nearest-neighbor 10x.\n",
    "\n",
    "Please make ~10 options I can review, like banner_1.png, banner_2.png, etc.\n",
    "\n",
    "\"\"\"\n",
    "\n",
    "interpreter.reset()\n",
    "interpreter.chat(message)"
   ]
  },
  {
   "cell_type": "markdown",
   "metadata": {},
   "source": [
    "## 5. Add subtitles to videos"
   ]
  },
  {
   "cell_type": "markdown",
   "metadata": {},
   "source": [
    "`replicate` also has a speech-to-text service that generates subtitle files (.srt).\n",
    "\n",
    "Let's ask Open Interpreter to use some code [copied from replicate's quickstart](https://replicate.com/m1guelpf/whisper-subtitles/api) to add hardcoded subtitles to a video:"
   ]
  },
  {
   "cell_type": "code",
   "execution_count": null,
   "metadata": {},
   "outputs": [],
   "source": [
    "message = \"\"\"\n",
    "Hello! I just logged into Replicate on this machine. You have my permission to run any code.\n",
    "\n",
    "Could you use their speech-to-text service to hardcode subtitles to the bottom of billyking.mp4 and make billy_subbed.mp4?\n",
    "\"\"\"\n",
    "\n",
    "# Again, let's give Open Interpreter an example of how to use the service.\n",
    "message += \"\"\"\n",
    "Here's some code that Replicate provides for how to use their service:\n",
    "\n",
    "import replicate\n",
    "output = replicate.run(\n",
    "    \"m1guelpf/whisper-subtitles:7f686e243a96c7f6f0f481bcef24d688a1369ed3983cea348d1f43b879615766\",\n",
    "    input={\"audio_path\": open(\"path/to/file\", \"rb\")} # Can also be a video path\n",
    ")\n",
    "print(output)\n",
    "\n",
    "\"\"\"\n",
    "\n",
    "# Now let's reset and run Open Interpreter.\n",
    "interpreter.reset()\n",
    "interpreter.chat(message)"
   ]
  },
  {
   "cell_type": "markdown",
   "metadata": {},
   "source": [
    "You can [watch the output video here.](https://youtube.com/shorts/F6gOzP691po?feature=share)"
   ]
  },
  {
   "cell_type": "markdown",
   "metadata": {},
   "source": [
    "## 6. YouTube video -> TikTok Clip"
   ]
  },
  {
   "cell_type": "code",
   "execution_count": null,
   "metadata": {},
   "outputs": [],
   "source": [
    "message = \"\"\"\n",
    "\n",
    "I'd like your help in making a TikTok clip of this: https://www.youtube.com/watch?v=KgHkAwaW_lk\n",
    "\n",
    "Please cut the clip from this -- from 0:15 to 0:38 -- and crop it to portrait (exactly 9:16-- this will be tricky)\n",
    "around the face in the frame. Just follow the face horizontally -- the final video should be as tall as the original.\n",
    "\n",
    "You'll need to smoothly/softly follow the one face in the frame so please smoothly average out the motion\n",
    "between confident face detections. Then put the audio back in. Thanks!\n",
    "\n",
    "\"\"\"\n",
    "\n",
    "interpreter.reset()\n",
    "interpreter.chat(message)"
   ]
  },
  {
   "cell_type": "markdown",
   "metadata": {},
   "source": [
    "Nice! It's saved as `cropped_clip_with_audio.mkv`.\n",
    "\n",
    "One problem -- if we want to send it to our phone and upload it to TikTok or YT Shorts, we'll need it to be an `.mp4` file.\n",
    "\n",
    "So, let's just ask for that:"
   ]
  },
  {
   "cell_type": "code",
   "execution_count": null,
   "metadata": {},
   "outputs": [],
   "source": [
    "# The interpreter remembers our conversation unless we explicitly .reset() it.\n",
    "interpreter.chat(\"Looks great! Can you convert it to an mp4?\")"
   ]
  },
  {
   "cell_type": "markdown",
   "metadata": {},
   "source": [
    "## 7. Bonus: Image -> Animation"
   ]
  },
  {
   "cell_type": "markdown",
   "metadata": {},
   "source": [
    "Another `replicate` example -- let's use ControlNet to turn [this image](https://i.ibb.co/f0p4Q5R/i-heart-victoria-paris.png) into 90s-style animated intro."
   ]
  },
  {
   "cell_type": "code",
   "execution_count": null,
   "metadata": {},
   "outputs": [],
   "source": [
    "message = \"\"\"\n",
    "Hi, I want to make a video that's comprised of 12 frames. The 12 frames should be of the image\n",
    "victoria.png run through controlnet with different materials as prompts.\n",
    "\n",
    "I'm logged into replicate on this machine. Here's how to use replicate's controlnet:\n",
    "\n",
    "output = replicate.run(\n",
    "    \"jagilley/controlnet-canny:aff48af9c68d162388d230a2ab003f68d2638d88307bdaf1c2f1ac95079c9613\",\n",
    "    input={\"image\": open(\"path/to/file\", \"rb\"), \"prompt\": \"metal\"}\n",
    ")\n",
    "print(output)\n",
    "\n",
    "Can you run victoria.png through this 12 times with different materials each time like \"metal\", \"embroidery\", and \"crayon\"?\n",
    "Then stitch together the 12 pictures into a 1 second video clip. Thank you!\n",
    "\"\"\"\n",
    "\n",
    "interpreter.reset()\n",
    "interpreter.chat(message)"
   ]
  }
 ],
 "metadata": {
  "language_info": {
   "name": "python"
  },
  "orig_nbformat": 4
 },
 "nbformat": 4,
 "nbformat_minor": 2
}
